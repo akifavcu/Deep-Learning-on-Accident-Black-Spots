{
 "cells": [
  {
   "cell_type": "code",
   "execution_count": null,
   "id": "initial_id",
   "metadata": {
    "collapsed": true
   },
   "outputs": [],
   "source": [
    "import datetime\n",
    "import os\n",
    "from pathlib import Path\n",
    "\n",
    "import pandas\n",
    "import requests\n",
    "import tqdm\n",
    "from bs4 import BeautifulSoup\n",
    "from pandas import DataFrame"
   ]
  },
  {
   "cell_type": "code",
   "execution_count": null,
   "outputs": [],
   "source": [
    "ROOT_DIR = Path(os.getcwd()).parent.absolute().__str__()\n",
    "ROOT_DIR"
   ],
   "metadata": {
    "collapsed": false
   },
   "id": "b5964978b4316ed6"
  },
  {
   "cell_type": "code",
   "execution_count": null,
   "outputs": [],
   "source": [
    "road_dataframe = pandas.read_csv(f'{ROOT_DIR}/data/raw/road_info.csv')\n",
    "road_dataframe"
   ],
   "metadata": {
    "collapsed": false
   },
   "id": "f7189ff89629bcf1"
  },
  {
   "cell_type": "code",
   "execution_count": null,
   "outputs": [],
   "source": [
    "road_list = road_dataframe['chinese_district_name']\n",
    "road_list"
   ],
   "metadata": {
    "collapsed": false
   },
   "id": "7d18c17a8f214e25"
  },
  {
   "cell_type": "code",
   "execution_count": null,
   "outputs": [],
   "source": [
    "url = 'https://programme.rthk.hk/channel/radio/trafficnews/index.php?d={date}'\n",
    "\n",
    "start_date = datetime.datetime(2010, 1, 1)\n",
    "\n",
    "info = {\n",
    "    'date': [],\n",
    "    'time': [],\n",
    "    'location': [],\n",
    "    'detail': [],\n",
    "}\n",
    "\n",
    "for i in tqdm.tqdm(range(0, 4018)):\n",
    "    news_date = (start_date + datetime.timedelta(i)).strftime('%Y%m%d')\n",
    "    response = requests.get(url.format(date=news_date))\n",
    "    soup = BeautifulSoup(response.content, 'html.parser')\n",
    "    articles = soup.find('div', {'class': 'articles'})\n",
    "    ul = articles.find_all('li', {'class': 'inner'})\n",
    "    if ul:\n",
    "        for li in ul:\n",
    "            data = li.get_text().split('\\t')\n",
    "            detail = data[0]\n",
    "            date = data[-1].strip().split(' HKT ')[0]\n",
    "            time = data[-1].strip().split(' HKT ')[1]\n",
    "            for road in road_list:\n",
    "                if road in detail:\n",
    "                    info['date'].append(str(date))\n",
    "                    info['time'].append(str(time))\n",
    "                    info['location'].append(str(road))\n",
    "                    info['detail'].append(str(detail))"
   ],
   "metadata": {
    "collapsed": false
   },
   "id": "7418d809edcd233f"
  },
  {
   "cell_type": "code",
   "execution_count": null,
   "outputs": [],
   "source": [
    "news_dataframe = DataFrame(info)\n",
    "news_dataframe"
   ],
   "metadata": {
    "collapsed": false
   },
   "id": "6d3dac462293597e"
  },
  {
   "cell_type": "code",
   "execution_count": null,
   "outputs": [],
   "source": [
    "news_dataframe.to_csv(f'{ROOT_DIR}/data/raw/news_info.csv', index=False)"
   ],
   "metadata": {
    "collapsed": false
   },
   "id": "1f5c41578cade7bb"
  },
  {
   "cell_type": "code",
   "execution_count": null,
   "outputs": [],
   "source": [],
   "metadata": {
    "collapsed": false
   },
   "id": "c331dd22bee4c9b4"
  }
 ],
 "metadata": {
  "kernelspec": {
   "display_name": "Python 3",
   "language": "python",
   "name": "python3"
  },
  "language_info": {
   "codemirror_mode": {
    "name": "ipython",
    "version": 2
   },
   "file_extension": ".py",
   "mimetype": "text/x-python",
   "name": "python",
   "nbconvert_exporter": "python",
   "pygments_lexer": "ipython2",
   "version": "2.7.6"
  }
 },
 "nbformat": 4,
 "nbformat_minor": 5
}
